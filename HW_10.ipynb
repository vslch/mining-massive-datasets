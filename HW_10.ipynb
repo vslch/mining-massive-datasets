{
 "cells": [
  {
   "cell_type": "markdown",
   "metadata": {},
   "source": [
    "# HW 10\n",
    "\n",
    "## Question 1"
   ]
  },
  {
   "cell_type": "code",
   "execution_count": 46,
   "metadata": {},
   "outputs": [
    {
     "name": "stdout",
     "output_type": "stream",
     "text": [
      "xyyx  is worth 4 $\n",
      "xxxy  is worth 4 $\n",
      "yyxx  is worth 4 $\n",
      "xyyy  is worth 3 $\n",
      "\n",
      "xyyx  is worth 3 $\n",
      "xxxy  is worth 3 $\n",
      "yyxx  is worth 4 $\n",
      "xyyy  is worth 2 $\n"
     ]
    }
   ],
   "source": [
    "def balance1(s):\n",
    "    A, B = 2, 2\n",
    "    b = 0\n",
    "    \n",
    "    for c in s:\n",
    "        \n",
    "        if A == 0 and B == 0:\n",
    "            continue\n",
    "            \n",
    "        if c == \"x\":\n",
    "            if B >= A and B > 0:\n",
    "                B -= 1\n",
    "                b += 1\n",
    "            elif A > 0:\n",
    "                A -= 1\n",
    "                b += 1\n",
    "        elif c in \"xy\" and A > 0:\n",
    "            A -= 1\n",
    "            b += 1\n",
    "        elif c in \"xz\" and B > 0:\n",
    "            B -= 1\n",
    "            b += 1\n",
    "    \n",
    "    print(s, \" is worth\", b, '$')\n",
    "    \n",
    "def balance2(s):\n",
    "    A, B = 2, 2\n",
    "    b = 0\n",
    "    \n",
    "    for c in s:\n",
    "        \n",
    "        if A == 0 and B == 0:\n",
    "            continue\n",
    "            \n",
    "        if c == \"x\":\n",
    "            if A >= B and A > 0:\n",
    "                A -= 1\n",
    "                b += 1\n",
    "            elif B > 0:\n",
    "                B -= 1\n",
    "                b += 1\n",
    "        elif c in \"xy\" and A > 0:\n",
    "            A -= 1\n",
    "            b += 1\n",
    "        elif c in \"xz\" and B > 0:\n",
    "            B -= 1\n",
    "            b += 1\n",
    "    \n",
    "    print(s, \" is worth\", b, '$')\n",
    "    \n",
    "balance1(\"xyyx\")\n",
    "balance1(\"xxxy\")\n",
    "balance1(\"yyxx\")\n",
    "balance1(\"xyyy\")\n",
    "print()\n",
    "balance2(\"xyyx\")\n",
    "balance2(\"xxxy\")\n",
    "balance2(\"yyxx\")\n",
    "balance2(\"xyyy\")"
   ]
  },
  {
   "cell_type": "markdown",
   "metadata": {},
   "source": [
    "## Question 2"
   ]
  },
  {
   "cell_type": "code",
   "execution_count": 28,
   "metadata": {},
   "outputs": [
    {
     "name": "stdout",
     "output_type": "stream",
     "text": [
      "min coverage of size 4 found - ('AB', 'CD', 'EF', 'GH')\n",
      "dumb ratio is 1.75\n",
      "simple ratio is 1.75\n"
     ]
    }
   ],
   "source": [
    "from itertools import combinations\n",
    "\n",
    "p = [\"AB\", \"BC\", \"CD\", \"DE\", \"EF\", \"FG\", \"GH\", \"AH\", \"ADG\", \"ADF\"]\n",
    "\n",
    "for i in range(1, len(p) + 1):\n",
    "    \n",
    "    found = False\n",
    "    \n",
    "    for c in combinations(p, i):\n",
    "        \n",
    "        s = set()\n",
    "        \n",
    "        for k in c:\n",
    "            s |= set(k)\n",
    "        \n",
    "        if len(s) == 8:\n",
    "            print(\"min coverage of size %s found - %s\" % (i, c))\n",
    "            found = True\n",
    "            break\n",
    "            \n",
    "    if found:\n",
    "        break\n",
    "\n",
    "min_cov = i\n",
    "        \n",
    "def dumb():\n",
    "    s = set()\n",
    "    for i, c in enumerate(p, 1):\n",
    "        s |= set(c)\n",
    "        if len(s) == 8:\n",
    "            print(\"dumb ratio is\", round(i / min_cov, 2))\n",
    "            break\n",
    "            \n",
    "def simple():\n",
    "    s = set()\n",
    "    for i, c in enumerate(p, 1):\n",
    "        if not (set(c) - s):\n",
    "            continue\n",
    "        s |= set(c)\n",
    "        if len(s) == 8:\n",
    "            print(\"simple ratio is\", round(i / min_cov, 2))\n",
    "            break\n",
    "            \n",
    "dumb()\n",
    "simple()\n"
   ]
  },
  {
   "cell_type": "markdown",
   "metadata": {},
   "source": [
    "## Question 3"
   ]
  },
  {
   "cell_type": "code",
   "execution_count": 45,
   "metadata": {},
   "outputs": [
    {
     "data": {
      "text/plain": [
       "{(('b0', 'a0'), ('b1', 'a3'), ('b2', 'a1'), ('b3', 'a4'), ('b4', 'a2')),\n",
       " (('b0', 'a2'), ('b1', 'a0'), ('b2', 'a3'), ('b3', 'a1'), ('b4', 'a4'))}"
      ]
     },
     "execution_count": 45,
     "metadata": {},
     "output_type": "execute_result"
    }
   ],
   "source": [
    "edges = {\n",
    "    \"b0\": (\"a0\", \"a2\"),\n",
    "    \"b1\": (\"a0\", \"a3\"),\n",
    "    \"b2\": (\"a1\", \"a3\"),\n",
    "    \"b3\": (\"a1\", \"a4\"),\n",
    "    \"b4\": (\"a2\", \"a4\")\n",
    "}\n",
    "\n",
    "from itertools import combinations\n",
    "\n",
    "def get_matching(b, current=[], i=0, seen=set()):\n",
    "    if i == len(b):\n",
    "        return {tuple(current)}\n",
    "    \n",
    "    next_b = b[i]\n",
    "    \n",
    "    found = set()\n",
    "    \n",
    "    for match in edges[next_b]:\n",
    "        if match in seen:\n",
    "            continue\n",
    "        found |= get_matching(b, current + [(next_b, match)], i + 1, seen | {match})\n",
    "\n",
    "    return found \n",
    "    \n",
    "\n",
    "def perfect_matching(n):\n",
    "    res = set()\n",
    "    for b in combinations(edges.keys(), n):\n",
    "        res |= get_matching(b)\n",
    "    return res\n",
    "\n",
    "perfect_matching(5)"
   ]
  },
  {
   "cell_type": "markdown",
   "metadata": {},
   "source": [
    "## Question 4"
   ]
  },
  {
   "cell_type": "code",
   "execution_count": 22,
   "metadata": {},
   "outputs": [
    {
     "name": "stdout",
     "output_type": "stream",
     "text": [
      "A has 10 clicks\n",
      "B has 7 clicks\n",
      "C has 38 clicks\n",
      "D has 53 clicks\n",
      "E has 41 clicks\n"
     ]
    }
   ],
   "source": [
    "class Advertizer:\n",
    "    \n",
    "    def __init__(self, bid, ctr1, ctr2, ctr3, budget):\n",
    "        self.bid = bid\n",
    "        self.ctr1 = ctr1\n",
    "        self.ctr2 = ctr2\n",
    "        self.ctr3 = ctr3\n",
    "        self.budget = budget\n",
    "        self.clicks = 0\n",
    "    \n",
    "    \n",
    "        \n",
    "A = Advertizer(.1, .15, .1, .005, 1)\n",
    "B = Advertizer(.0, .016, .012, .006, 2)\n",
    "C = Advertizer(.08, .017, .014, .007, 3)\n",
    "D = Advertizer(.07, .018, .015, .008, 4)\n",
    "E = Advertizer(.06, .019, .016, .010, 5)\n",
    "\n",
    "adv = {\"A\": A, \"B\": B, \"C\": C, \"D\": D, \"E\": E}\n",
    "\n",
    "def select():\n",
    "    \n",
    "    candidates = set(c for c in \"ABCDE\" if adv[c].budget > 0)\n",
    "    selected = []\n",
    "    \n",
    "    if not candidates:\n",
    "        return []\n",
    "    \n",
    "    c1 = max(candidates, key=lambda x: adv[x].bid * adv[x].ctr1)\n",
    "    candidates -= {c1}\n",
    "    selected.append(c1)\n",
    "    \n",
    "    if not candidates:\n",
    "        return selected\n",
    "    \n",
    "    c2 = max(\n",
    "        (k for k in candidates if k not in selected), \n",
    "         key=lambda x: adv[x].bid * adv[x].ctr2\n",
    "    )\n",
    "    candidates -= {c2}\n",
    "    selected.append(c2)\n",
    "    \n",
    "    if not candidates:\n",
    "        return selected\n",
    "    \n",
    "    c3 = max(\n",
    "        (k for k in candidates if k not in selected), \n",
    "         key=lambda x: adv[x].bid * adv[x].ctr3\n",
    "    )\n",
    "    selected.append(c3)\n",
    "    \n",
    "    return selected\n",
    "\n",
    "r = select()\n",
    "\n",
    "while sum(round(adv[k].clicks) for k in r) < 101:\n",
    "    \n",
    "    if len(r) > 0 and adv[r[0]].budget > 0:\n",
    "        adv[r[0]].clicks += adv[r[0]].ctr1\n",
    "        adv[r[0]].budget -= adv[r[0]].bid * adv[r[0]].ctr1\n",
    "        \n",
    "    if len(r) > 1 and adv[r[1]].budget > 0:\n",
    "        adv[r[1]].clicks += adv[r[1]].ctr2\n",
    "        adv[r[1]].budget -= adv[r[1]].bid * adv[r[1]].ctr2\n",
    "        \n",
    "    if len(r) > 2 and adv[r[2]].budget > 0:\n",
    "        adv[r[2]].clicks += adv[r[2]].ctr3\n",
    "        adv[r[2]].budget -= adv[r[2]].bid * adv[r[2]].ctr3\n",
    "        \n",
    "    r = select()\n",
    "    #print(r)\n",
    "    \n",
    "    \n",
    "for k, v in adv.items():\n",
    "    print(\"%s has %s clicks\" % (k, round(v.clicks)))"
   ]
  }
 ],
 "metadata": {
  "kernelspec": {
   "display_name": "Python 3",
   "language": "python",
   "name": "python3"
  },
  "language_info": {
   "codemirror_mode": {
    "name": "ipython",
    "version": 3
   },
   "file_extension": ".py",
   "mimetype": "text/x-python",
   "name": "python",
   "nbconvert_exporter": "python",
   "pygments_lexer": "ipython3",
   "version": "3.7.6"
  }
 },
 "nbformat": 4,
 "nbformat_minor": 4
}
