{
 "cells": [
  {
   "cell_type": "markdown",
   "metadata": {},
   "source": [
    "# HW 2\n",
    "\n",
    "\n",
    "## Question 1\n",
    "\n",
    "Suppose we use locality-sensitive hashing with three bands of two rows each. Assume there are enough buckets available that the hash function for each band can be the identity function (i.e., columns hash to the same bucket if and only if they are identical in the band). Find all the candidate pairs, and then identify one of them in the list below.\n",
    "\n",
    "**Answer** C4 and C7\n",
    "\n",
    "## Question 2\n",
    "\n",
    "Suppose we have computed signatures for a number of columns, and each signature consists of 24 integers, arranged as a column of 24 rows. There are N pairs of signatures that are 50% similar (i.e., they agree in half of the rows). There are M pairs that are 20% similar, and all other pairs (an unknown number) are 0% similar.\n",
    "\n",
    "We can try to find 50%-similar pairs by using Locality-Sensitive Hashing (LSH), and we can do so by choosing bands of 1, 2, 3, 4, 6, 8, 12, or 24 rows. Calculate approximately, in terms of N and M, the number of false positive and the number of false negatives, for each choice for the number of rows. Then, suppose that we assign equal cost to false positives and false negatives (an atypical assumption). Which number of rows would you choose if M:N were in each of the following ratios: 1:1, 10:1, 100:1, and 1000:1? Identify the correct choice from the list below.\n",
    "\n",
    "**Solution**"
   ]
  },
  {
   "cell_type": "code",
   "execution_count": 12,
   "metadata": {
    "scrolled": true
   },
   "outputs": [
    {
     "name": "stdout",
     "output_type": "stream",
     "text": [
      "for M = 1N pick r = 3\n",
      "for M = 10N pick r = 4\n",
      "for M = 100N pick r = 6\n",
      "for M = 1000N pick r = 8\n"
     ]
    }
   ],
   "source": [
    "def f(r, b, M, N):\n",
    "    FP = M * (1 - (1 - 0.2**r)**b)\n",
    "    FN = N * (1 - 0.5**r)**b\n",
    "    return FP + FN\n",
    "\n",
    "total_rows = 24\n",
    "\n",
    "for M in (1, 10, 100, 1000):\n",
    "    res = []\n",
    "    for r in (1, 2, 3, 4, 6, 8, 12, 24):\n",
    "        b = total_rows // r\n",
    "        N = 1\n",
    "        res.append((r, f(r, b, M, N)))\n",
    "    print(\"for M = %sN pick r = % s\" % (M, min(res, key=lambda c: c[1])[0]))\n",
    "        "
   ]
  },
  {
   "cell_type": "markdown",
   "metadata": {},
   "source": [
    "**Answer** For M = 10N, pick r = 4.\n",
    "\n",
    "## Question 3\n",
    "\n",
    " Find the set of 2-shingles for the \"document\": ABRACADABRA and BRICABRAC.\n",
    " \n",
    "Answer the following questions:\n",
    "1. How many 2-shingles does ABRACADABRA have?\n",
    "2. How many 2-shingles does BRICABRAC have?\n",
    "3. How many 2-shingles do they have in common?\n",
    "4. What is the Jaccard similarity between the two documents\"?\n",
    "\n",
    "Then, find the true statement in the list below."
   ]
  },
  {
   "cell_type": "code",
   "execution_count": 18,
   "metadata": {},
   "outputs": [
    {
     "name": "stdout",
     "output_type": "stream",
     "text": [
      "1. ABRACADABRA have 7 shingles\n",
      "2. BRICABRAC have 7 shingles\n",
      "3. common shingles 5\n",
      "4. Jaccard similarity  is  5 / 9\n"
     ]
    }
   ],
   "source": [
    "def make_shingles(s):\n",
    "    return set(zip(s, s[1:]))\n",
    "\n",
    "x = make_shingles(\"ABRACADABRA\")\n",
    "y = make_shingles(\"BRICABRAC\")\n",
    "\n",
    "print(\"1. ABRACADABRA have %s shingles\" % len(x))\n",
    "print(\"2. BRICABRAC have %s shingles\" % len(y))\n",
    "print(\"3. common shingles %s\" % len(x & y))\n",
    "print(\"4. Jaccard similarity  is  %s / %s\" % (len(x & y), len(x | y)))\n"
   ]
  },
  {
   "cell_type": "markdown",
   "metadata": {},
   "source": [
    "**Answer** The Jaccard similarity is 5/9.\n",
    "\n",
    "## Question 4\n",
    "\n",
    "Compute the Jaccard similarity between each pair of columns. Which of the following is the true similarity of the two stated columns?\n",
    "\n",
    "**Solution**"
   ]
  },
  {
   "cell_type": "code",
   "execution_count": 19,
   "metadata": {
    "scrolled": true
   },
   "outputs": [
    {
     "name": "stdout",
     "output_type": "stream",
     "text": [
      "C1 and C2 have similarity 0/5\n",
      "C1 and C3 have similarity 2/4\n",
      "C1 and C4 have similarity 1/3\n",
      "C2 and C3 have similarity 1/6\n",
      "C2 and C4 have similarity 1/4\n",
      "C3 and C4 have similarity 1/5\n"
     ]
    }
   ],
   "source": [
    "M = [\n",
    "    [0, 1, 0, 0, 1, 0],\n",
    "    [1, 0, 1, 0, 0, 1],\n",
    "    [1, 1, 0, 1, 1, 0],\n",
    "    [0, 1, 1, 0, 0, 0]\n",
    "]\n",
    "\n",
    "for i in range(3):\n",
    "    for j in range(i + 1, 4):\n",
    "        r1 = M[i]\n",
    "        r2 = M[j]\n",
    "        x = sum(a and b for a, b in zip(r1, r2))\n",
    "        y = sum(a or b for a, b in zip(r1, r2))\n",
    "        print (\"C%s and C%s have similarity %s/%s\" % (i + 1, j + 1, x, y))\n",
    "            "
   ]
  },
  {
   "cell_type": "markdown",
   "metadata": {},
   "source": [
    "**Answer** C1 and C2 have similarity 0\n",
    "\n",
    "## Question 5\n",
    "\n",
    "Perform a minhashing of the data, with the order of rows: R4, R6, R1, R3, R5, R2. Which of the following is the correct minhash value of the stated column? Note: we give the minhash value in terms of the original name of the row, rather than the order of the row in the permutation. These two schemes are equivalent, since we only care whether hash values for two columns are equal, not what their actual values are. \n",
    "\n",
    "**Solution**"
   ]
  },
  {
   "cell_type": "code",
   "execution_count": 23,
   "metadata": {
    "scrolled": true
   },
   "outputs": [
    {
     "name": "stdout",
     "output_type": "stream",
     "text": [
      "The minhash value for C1 is R5\n",
      "The minhash value for C2 is R6\n",
      "The minhash value for C3 is R4\n",
      "The minhash value for C4 is R3\n"
     ]
    }
   ],
   "source": [
    "M = [\n",
    "    [0, 1, 1, 0],\n",
    "    [1, 0, 1, 1],\n",
    "    [0, 1, 0, 1],\n",
    "    [0, 0, 1, 0],\n",
    "    [1, 0, 1, 0],\n",
    "    [0, 1, 0, 0]\n",
    "]\n",
    "\n",
    "minhash = [\n",
    "    next(i for i in (3, 5, 0, 2, 4, 1) if M[i][j] == 1)\n",
    "    for j in range(4)\n",
    "]\n",
    "\n",
    "for i, m in enumerate(minhash):\n",
    "    print(\"The minhash value for C%s is R%s\" % (i + 1, m + 1))"
   ]
  },
  {
   "cell_type": "markdown",
   "metadata": {},
   "source": [
    "**Answer** The minhash value for C2 is R6"
   ]
  }
 ],
 "metadata": {
  "kernelspec": {
   "display_name": "Python 3",
   "language": "python",
   "name": "python3"
  },
  "language_info": {
   "codemirror_mode": {
    "name": "ipython",
    "version": 3
   },
   "file_extension": ".py",
   "mimetype": "text/x-python",
   "name": "python",
   "nbconvert_exporter": "python",
   "pygments_lexer": "ipython3",
   "version": "3.7.6"
  }
 },
 "nbformat": 4,
 "nbformat_minor": 4
}
