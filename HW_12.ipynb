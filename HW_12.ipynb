{
 "cells": [
  {
   "cell_type": "markdown",
   "metadata": {},
   "source": [
    "# HW 12\n",
    "\n",
    "## Question 1"
   ]
  },
  {
   "cell_type": "code",
   "execution_count": 6,
   "metadata": {},
   "outputs": [
    {
     "name": "stdout",
     "output_type": "stream",
     "text": [
      "[(1, 1), (1, 4), (1, 9), (1, 16)]\n",
      "[(2, 5), (2, 12), (2, 21), (2, 32)]\n",
      "[(3, 9), (3, 20), (3, 33), (3, 48)]\n",
      "[(4, 13), (4, 28), (4, 45), (4, 64)]\n"
     ]
    }
   ],
   "source": [
    "M = [\n",
    "    [1, 2, 3, 4],\n",
    "    [5, 6, 7, 8],\n",
    "    [9, 10, 11, 12],\n",
    "    [13, 14, 15, 16]\n",
    "]\n",
    "\n",
    "v = [1, 2, 3, 4]\n",
    "\n",
    "f = lambda i: [(i + 1, M[i][j] * v[j]) for j in range(4)]\n",
    "\n",
    "print(f(0))\n",
    "print(f(1))\n",
    "print(f(2))\n",
    "print(f(3))"
   ]
  },
  {
   "cell_type": "markdown",
   "metadata": {},
   "source": [
    "## Question 2"
   ]
  },
  {
   "cell_type": "code",
   "execution_count": 7,
   "metadata": {},
   "outputs": [
    {
     "name": "stdout",
     "output_type": "stream",
     "text": [
      "0 [('S', 1)]\n",
      "1 [('R', 0), ('S', 2)]\n",
      "2 [('R', 1), ('S', 3)]\n",
      "3 [('R', 2)]\n"
     ]
    }
   ],
   "source": [
    "R = [(0, 1), (1, 2), (2, 3)]\n",
    "S = [(0, 1), (1, 2), (2, 3)]\n",
    "\n",
    "t = {0: [], 1: [], 2: [], 3: []}\n",
    "\n",
    "for a, b in R:\n",
    "    t[b].append((\"R\", a))\n",
    "    \n",
    "for b, c in S:\n",
    "    t[b].append((\"S\", c))\n",
    "    \n",
    "for k, v in t.items():\n",
    "    print(k, v)"
   ]
  }
 ],
 "metadata": {
  "kernelspec": {
   "display_name": "Python 3",
   "language": "python",
   "name": "python3"
  },
  "language_info": {
   "codemirror_mode": {
    "name": "ipython",
    "version": 3
   },
   "file_extension": ".py",
   "mimetype": "text/x-python",
   "name": "python",
   "nbconvert_exporter": "python",
   "pygments_lexer": "ipython3",
   "version": "3.7.6"
  }
 },
 "nbformat": 4,
 "nbformat_minor": 4
}
