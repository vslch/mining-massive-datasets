{
 "cells": [
  {
   "cell_type": "markdown",
   "metadata": {},
   "source": [
    "# HW 3\n",
    "\n",
    "## Question 2\n",
    "\n",
    "Here are five vectors in a 10-dimensional space: $1111000000, 0100100101, 0000011110, 0111111111, 1011111111$.\n",
    "\n",
    "Compute the Jaccard distance (not Jaccard \"measure\") between each pair of the vectors. Then, identify one of these distances from the list below."
   ]
  },
  {
   "cell_type": "code",
   "execution_count": 7,
   "metadata": {
    "scrolled": true
   },
   "outputs": [
    {
     "name": "stdout",
     "output_type": "stream",
     "text": [
      "pair 1,2 jac dist is 6/7\n",
      "pair 1,3 jac dist is 8/8\n",
      "pair 1,4 jac dist is 7/10\n",
      "pair 1,5 jac dist is 7/10\n",
      "pair 2,3 jac dist is 6/7\n",
      "pair 2,4 jac dist is 5/9\n",
      "pair 2,5 jac dist is 7/10\n",
      "pair 3,4 jac dist is 5/9\n",
      "pair 3,5 jac dist is 5/9\n",
      "pair 4,5 jac dist is 2/10\n"
     ]
    }
   ],
   "source": [
    "v = [\"1111000000\",\"0100100101\",\"0000011110\",\"0111111111\",\"1011111111\"]\n",
    "for i in range(4):\n",
    "    for j in range(i + 1, 5):\n",
    "        a = list(map(int, v[i]))\n",
    "        b = list(map(int, v[j]))\n",
    "        e = sum(x & y for x, y in zip(a, b))\n",
    "        d = sum(x | y for x, y in zip(a, b))\n",
    "        print(\"pair %s,%s jac dist is %s/%s\" % (i + 1, j + 1, d - e, d))"
   ]
  },
  {
   "cell_type": "markdown",
   "metadata": {},
   "source": [
    "## Question 3\n",
    "\n",
    "Here are five vectors in a 10-dimensional space: $1111000000, 0100100101, 0000011110, 0111111111, 1011111111$.\n",
    "\n",
    "Compute the Manhattan distance (L1 norm) between each two of these vectors. Then, identify which of the following is a true statement about the number of pairs with a particular distance."
   ]
  },
  {
   "cell_type": "code",
   "execution_count": 1,
   "metadata": {
    "scrolled": true
   },
   "outputs": [
    {
     "name": "stdout",
     "output_type": "stream",
     "text": [
      "pair 1,2 l1 dist is 6\n",
      "pair 1,3 l1 dist is 8\n",
      "pair 1,4 l1 dist is 7\n",
      "pair 1,5 l1 dist is 7\n",
      "pair 2,3 l1 dist is 6\n",
      "pair 2,4 l1 dist is 5\n",
      "pair 2,5 l1 dist is 7\n",
      "pair 3,4 l1 dist is 5\n",
      "pair 3,5 l1 dist is 5\n",
      "pair 4,5 l1 dist is 2\n"
     ]
    }
   ],
   "source": [
    "v = [\"1111000000\",\"0100100101\",\"0000011110\",\"0111111111\",\"1011111111\"]\n",
    "for i in range(4):\n",
    "    for j in range(i + 1, 5):\n",
    "        a = list(map(int, v[i]))\n",
    "        b = list(map(int, v[j]))\n",
    "        l1 = sum(abs(x - y) for x, y in zip(a, b))\n",
    "        print(\"pair %s,%s l1 dist is %s\" % (i + 1, j + 1, l1))"
   ]
  }
 ],
 "metadata": {
  "kernelspec": {
   "display_name": "Python 3",
   "language": "python",
   "name": "python3"
  },
  "language_info": {
   "codemirror_mode": {
    "name": "ipython",
    "version": 3
   },
   "file_extension": ".py",
   "mimetype": "text/x-python",
   "name": "python",
   "nbconvert_exporter": "python",
   "pygments_lexer": "ipython3",
   "version": "3.7.6"
  }
 },
 "nbformat": 4,
 "nbformat_minor": 4
}
