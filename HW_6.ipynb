{
 "cells": [
  {
   "cell_type": "markdown",
   "metadata": {},
   "source": [
    "# HW 6\n",
    "\n",
    "## Question 1\n",
    "\n",
    "We wish to estimate the surprise number (2nd moment) of a data stream, using the method of AMS. It happens that our stream consists of ten different values, which we'll call 1, 2,..., 10, that cycle repeatedly. That is, at timestamps 1 through 10, the element of the stream equals the timestamp, at timestamps 11 through 20, the element is the timestamp minus 10, and so on. It is now timestamp 75, and a 5 has just been read from the stream. As a start, you should calculate the surprise number for this time.\n",
    "\n",
    "For our estimate of the surprise number, we shall choose three timestamps at random, and estimate the surprise number from each, using the AMS approach (length of the stream times 2m-1, where m is the number of occurrences of the element of the stream at that timestamp, considering all times from that timestamp on, to the current time). Then, our estimate will be the median of the three resulting values.\n",
    "You should discover the simple rules that determine the estimate derived from any given timestamp and from any set of three timestamps. Then, identify from the list below the set of three \"random\" timestamps that give the closest estimate.\n",
    "\n",
    "**Solution**"
   ]
  },
  {
   "cell_type": "code",
   "execution_count": 54,
   "metadata": {
    "scrolled": true
   },
   "outputs": [
    {
     "name": "stdout",
     "output_type": "stream",
     "text": [
      "real suprise number is 565\n",
      "(31, 48, 50) -> estimated suprise number is 375.0\n",
      "(5, 33, 67) -> estimated suprise number is 675.0\n",
      "(37, 46, 55) -> estimated suprise number is 375.0\n",
      "(3, 45, 72) -> estimated suprise number is 525.0\n"
     ]
    }
   ],
   "source": [
    "from numpy import median\n",
    "\n",
    "target = 5 * (8**2 + 7**2)\n",
    "\n",
    "def suprise_number(x, y, z):\n",
    "    mx = 75 * (2 * sum(1 for i in range(x, 76, 10)) - 1)\n",
    "    my = 75 * (2 * sum(1 for i in range(y, 76, 10)) - 1)\n",
    "    mz = 75 * (2 * sum(1 for i in range(z, 76, 10)) - 1)\n",
    "    #print(mx, my, mz)\n",
    "    return median([mx, my, mz])\n",
    "\n",
    "n = [\n",
    "    (31, 48, 50),\n",
    "    (5, 33, 67),\n",
    "    (37, 46, 55),\n",
    "    (3, 45, 72)\n",
    "]\n",
    "\n",
    "print(\"real suprise number is\", target)\n",
    "\n",
    "for z in n:\n",
    "    t = suprise_number(*z)\n",
    "    print(z, \"-> estimated suprise number is\", t)\n",
    "    \n",
    "    "
   ]
  },
  {
   "cell_type": "markdown",
   "metadata": {},
   "source": [
    "## Question 2\n",
    "\n",
    "Suppose we are using the DGIM algorithm of Section 4.6.2 to estimate the number of 1's in suffixes of a sliding window of length 40. The current timestamp is 100, and we have the following buckets stored: $[(100, 1),(98, 1),(95, 2),(92, 2),(87, 4),(80, 8),(65, 8)]$. Note: we are showing timestamps as absolute values, rather than modulo the window size, as DGIM would do.\n",
    "\n",
    "Suppose that at times 101 through 105, 1's appear in the stream. Compute the set of buckets that would exist in the system at time 105. Then identify one such bucket from the list below. Buckets are represented by pairs (end-time, size).\n",
    "\n",
    "**Solution**"
   ]
  },
  {
   "cell_type": "code",
   "execution_count": 51,
   "metadata": {},
   "outputs": [
    {
     "name": "stdout",
     "output_type": "stream",
     "text": [
      "[(101, 1), (100, 2), (95, 4), (87, 4), (80, 8), (65, 8)]\n",
      "[(102, 1), (101, 1), (100, 2), (95, 4), (87, 4), (80, 8), (65, 8)]\n",
      "[(103, 1), (102, 2), (100, 2), (95, 4), (87, 4), (80, 8), (65, 8)]\n",
      "[(104, 1), (103, 1), (102, 2), (100, 2), (95, 4), (87, 4), (80, 8), (65, 8)]\n",
      "[(105, 1), (104, 2), (102, 4), (95, 8), (80, 8)]\n"
     ]
    }
   ],
   "source": [
    "b = [\n",
    "    (100, 1),\n",
    "    (98, 1),\n",
    "    (95, 2),\n",
    "    (92, 2),\n",
    "    (87, 4),\n",
    "    (80, 8),\n",
    "    (65, 8)\n",
    "]\n",
    "\n",
    "def update(t):\n",
    "    \n",
    "    global b\n",
    "    \n",
    "    if t - b[-1][0] >= 40:\n",
    "        b = b[:-1]\n",
    "        \n",
    "    b.insert(0, (t, 1))\n",
    "    \n",
    "    for i in [1, 2, 4, 8]:\n",
    "        if list(c[1] for c in b).count(i) > 2:\n",
    "            n = next(\n",
    "                (k for k, c in enumerate(b) if c[1] == 2 * i), \n",
    "                len(b)\n",
    "            )\n",
    "            u = n - 1\n",
    "            v = n - 2\n",
    "            b[u] = (b[v][0], i * 2)\n",
    "            b.pop(v)\n",
    "            \n",
    "    print(b)\n",
    "    \n",
    "    \n",
    "update(101)\n",
    "update(102)\n",
    "update(103)\n",
    "update(104)\n",
    "update(105)"
   ]
  },
  {
   "cell_type": "markdown",
   "metadata": {},
   "source": [
    "## Question 3\n",
    "\n",
    "We wish to use the Flagolet-Martin algorithm of Section 4.4 to count the number of distinct elements in a stream. Suppose that there are ten possible elements, 1, 2,..., 10, that could appear in the stream, but only four of them have actually appeared. To make our estimate of the count of distinct elements, we hash each element to a 4-bit binary number. The element x is hashed to 3x + 7 (modulo 11). For example, element 8 hashes to 3*8+7 = 31, which is 9 modulo 11 (i.e., the remainder of 31/11 is 9). Thus, the 4-bit string for element 8 is 1001.\n",
    "\n",
    "A set of four of the elements 1 through 10 could give an estimate that is exact (if the estimate is 4), or too high, or too low. You should figure out under what circumstances a set of four elements falls into each of those categories. Then, identify in the list below the set of four elements that gives the exactly correct estimate.\n",
    "\n",
    "**Solution**"
   ]
  },
  {
   "cell_type": "code",
   "execution_count": 52,
   "metadata": {},
   "outputs": [
    {
     "name": "stdout",
     "output_type": "stream",
     "text": [
      "{1, 10, 6, 7} distinct elements estimate = 4\n",
      "{2, 10, 5, 7} distinct elements estimate = 4\n",
      "{1, 4, 9, 7} distinct elements estimate = 8\n",
      "{9, 2, 3, 6} distinct elements estimate = 2\n"
     ]
    }
   ],
   "source": [
    "f1 = lambda c: bin((3 * c + 7) % 11)[2:][-1::-1]\n",
    "f2 = lambda c: next((i for i, v in enumerate(f1(c)) if v ==\"1\"), 0)\n",
    "f3 = lambda s: max(2**f2(k) for k in s)\n",
    "\n",
    "v = [\n",
    "    {1, 6, 7, 10},\n",
    "    {2, 5, 7, 10},\n",
    "    {1, 4, 7, 9},\n",
    "    {2, 3, 6, 9}\n",
    "]\n",
    "\n",
    "for s in v:\n",
    "    print(s, \"distinct elements estimate =\", f3(s))\n"
   ]
  }
 ],
 "metadata": {
  "kernelspec": {
   "display_name": "Python 3",
   "language": "python",
   "name": "python3"
  },
  "language_info": {
   "codemirror_mode": {
    "name": "ipython",
    "version": 3
   },
   "file_extension": ".py",
   "mimetype": "text/x-python",
   "name": "python",
   "nbconvert_exporter": "python",
   "pygments_lexer": "ipython3",
   "version": "3.7.6"
  }
 },
 "nbformat": 4,
 "nbformat_minor": 4
}
