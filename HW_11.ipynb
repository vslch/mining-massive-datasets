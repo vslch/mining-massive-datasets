{
 "cells": [
  {
   "cell_type": "markdown",
   "metadata": {},
   "source": [
    "# HW 11\n",
    "\n",
    "## Question 1"
   ]
  },
  {
   "cell_type": "code",
   "execution_count": 24,
   "metadata": {
    "scrolled": true
   },
   "outputs": [
    {
     "name": "stdout",
     "output_type": "stream",
     "text": [
      "c = 6 a = -0.5 conditions satisfied\n"
     ]
    }
   ],
   "source": [
    "c1 = lambda c, a: 4 >= c + 5 * a\n",
    "c2 = lambda c, a: 3 >= c + 8 * a\n",
    "c3 = lambda c, a: 2 <= c + 7 * a\n",
    "c4 = lambda c, a: 3 <= c + 3 * a\n",
    "\n",
    "v = [(4, -1/9), (7, -7/8), (4, -.3), (6, -.5)]\n",
    "\n",
    "for c, a in v:\n",
    "    if all(f(c, a) for f in (c1, c2, c3, c4)):\n",
    "        print(\"c =\", c, \"a =\", round(a, 2), \"conditions satisfied\")"
   ]
  },
  {
   "cell_type": "markdown",
   "metadata": {},
   "source": [
    "## Question 3"
   ]
  },
  {
   "cell_type": "code",
   "execution_count": 14,
   "metadata": {},
   "outputs": [
    {
     "name": "stdout",
     "output_type": "stream",
     "text": [
      "(43, 83) missclassified!\n",
      "(50, 60) missclassified!\n",
      "(50, 30) missclassified!\n",
      "(25, 125) missclassified!\n",
      "(44, 105) missclassified!\n"
     ]
    }
   ],
   "source": [
    "a1 = [(28,145), (38,115), (43,83), (50,130), (50,90), (50,60), (50,30), (55,118), (63,88), (65,140)]\n",
    "a2 = [(23,40), (25,125), (29,97), (33,22), (35,63), (42,57), (44, 105), (55,63), (55,20), (64,37)]\n",
    "\n",
    "def tree(p, true_ans):\n",
    "    \n",
    "    a, s = p\n",
    "    pred_ans = 0\n",
    "    \n",
    "    if a < 45:\n",
    "        if s < 100:\n",
    "            pred_ans = 0\n",
    "        else:\n",
    "            pred_ans = 1\n",
    "    else:\n",
    "        if s < 75:\n",
    "            pred_ans = 0\n",
    "        else:\n",
    "            pred_ans = 1\n",
    "    \n",
    "    if pred_ans != true_ans:\n",
    "        print(p, \"missclassified!\")\n",
    "            \n",
    "for p in a1:\n",
    "    tree(p, 1)\n",
    "    \n",
    "for p in a2:\n",
    "    tree(p, 0)"
   ]
  },
  {
   "cell_type": "markdown",
   "metadata": {},
   "source": [
    "# Question 4"
   ]
  },
  {
   "cell_type": "code",
   "execution_count": 23,
   "metadata": {},
   "outputs": [
    {
     "name": "stdout",
     "output_type": "stream",
     "text": [
      "A1 gini split is 0.44\n",
      "A2 gini split is 0.19\n",
      "A3 gini split is 0.44\n",
      "prev gini is 0.47\n"
     ]
    }
   ],
   "source": [
    "A1 = [0,0,0,0,1,1,1,1]\n",
    "A2 = [0,0,1,1,0,0,1,1]\n",
    "A3 = [0,1,0,1,0,1,0,1]\n",
    "RR = [1,1,0,0,1,1,1,0]\n",
    "\n",
    "def gini(x):\n",
    "    n = len(x)\n",
    "    p1 = sum(x) / n\n",
    "    return 2 * p1 * (1 - p1)\n",
    "\n",
    "def split_gini(x, y):\n",
    "    c1 = [y[i] for i in range(8) if x[i] == 1]\n",
    "    c2 = [y[i] for i in range(8) if x[i] != 1]\n",
    "    return .5 * gini(c1) + .5 * gini(c2)\n",
    "\n",
    "for i, x in enumerate((A1, A2, A3)):\n",
    "    res = split_gini(x, RR)\n",
    "    print(\"A%s gini split is %s\" % (i + 1, round(res, 2)))\n",
    "    \n",
    "    \n",
    "res = gini(RR)\n",
    "print(\"prev gini is\", round(res, 2))\n",
    "    "
   ]
  },
  {
   "cell_type": "markdown",
   "metadata": {},
   "source": [
    "# Question 5"
   ]
  },
  {
   "cell_type": "code",
   "execution_count": 1,
   "metadata": {
    "scrolled": true
   },
   "outputs": [
    {
     "name": "stdout",
     "output_type": "stream",
     "text": [
      "point (4.1, 1.8) classified as -1\n",
      "point (4.2, 1.9) classified as 1\n",
      "point (3.9, 4.3) classified as -1\n",
      "point (3.6, 4.1) classified as -1\n"
     ]
    }
   ],
   "source": [
    "p = [\n",
    "    ((1,4), -1), \n",
    "    ((3,3), -1),\n",
    "    ((3,1), -1),\n",
    "    ((3,6), 1),\n",
    "    ((5,3), 1)\n",
    "]\n",
    "\n",
    "dist = lambda p1, p2: (p1[0] - p2[0])**2 + (p1[1] - p2[1])**2\n",
    "\n",
    "def clf(x):\n",
    "    return min(p, key=lambda z: dist(z[0], x))[1]\n",
    "\n",
    "t = ((4.1, 1.8), (4.2, 1.9), (3.9, 4.3), (3.6, 4.1))\n",
    "\n",
    "for m in t:\n",
    "    r = clf(m)\n",
    "    print(\"point %s classified as % s\" % (m, r))\n",
    "    "
   ]
  }
 ],
 "metadata": {
  "kernelspec": {
   "display_name": "Python 3",
   "language": "python",
   "name": "python3"
  },
  "language_info": {
   "codemirror_mode": {
    "name": "ipython",
    "version": 3
   },
   "file_extension": ".py",
   "mimetype": "text/x-python",
   "name": "python",
   "nbconvert_exporter": "python",
   "pygments_lexer": "ipython3",
   "version": "3.7.6"
  }
 },
 "nbformat": 4,
 "nbformat_minor": 4
}
