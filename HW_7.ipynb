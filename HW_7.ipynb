{
 "cells": [
  {
   "cell_type": "markdown",
   "metadata": {},
   "source": [
    "# HW 7\n",
    "\n",
    "## Question 1\n",
    "\n",
    "Here is a table of 1-5 star ratings for five movies (M, N, P. Q. R) by three raters (A, B, C). Normalize the ratings by subtracting the average for each row and then subtracting the average for each column in the resulting table. Then, identify the true statement about the normalized table.\n",
    "\n",
    "**Solution**"
   ]
  },
  {
   "cell_type": "code",
   "execution_count": 57,
   "metadata": {
    "scrolled": true
   },
   "outputs": [
    {
     "data": {
      "text/html": [
       "<div>\n",
       "<style scoped>\n",
       "    .dataframe tbody tr th:only-of-type {\n",
       "        vertical-align: middle;\n",
       "    }\n",
       "\n",
       "    .dataframe tbody tr th {\n",
       "        vertical-align: top;\n",
       "    }\n",
       "\n",
       "    .dataframe thead th {\n",
       "        text-align: right;\n",
       "    }\n",
       "</style>\n",
       "<table border=\"1\" class=\"dataframe\">\n",
       "  <thead>\n",
       "    <tr style=\"text-align: right;\">\n",
       "      <th></th>\n",
       "      <th>M</th>\n",
       "      <th>N</th>\n",
       "      <th>P</th>\n",
       "      <th>Q</th>\n",
       "      <th>R</th>\n",
       "    </tr>\n",
       "  </thead>\n",
       "  <tbody>\n",
       "    <tr>\n",
       "      <th>A</th>\n",
       "      <td>-1.33</td>\n",
       "      <td>-1.0</td>\n",
       "      <td>0.0</td>\n",
       "      <td>0.33</td>\n",
       "      <td>2.0</td>\n",
       "    </tr>\n",
       "    <tr>\n",
       "      <th>B</th>\n",
       "      <td>-0.33</td>\n",
       "      <td>0.0</td>\n",
       "      <td>-1.0</td>\n",
       "      <td>1.33</td>\n",
       "      <td>0.0</td>\n",
       "    </tr>\n",
       "    <tr>\n",
       "      <th>C</th>\n",
       "      <td>1.67</td>\n",
       "      <td>1.0</td>\n",
       "      <td>1.0</td>\n",
       "      <td>-1.67</td>\n",
       "      <td>-2.0</td>\n",
       "    </tr>\n",
       "  </tbody>\n",
       "</table>\n",
       "</div>"
      ],
      "text/plain": [
       "      M    N    P     Q    R\n",
       "A -1.33 -1.0  0.0  0.33  2.0\n",
       "B -0.33  0.0 -1.0  1.33  0.0\n",
       "C  1.67  1.0  1.0 -1.67 -2.0"
      ]
     },
     "execution_count": 57,
     "metadata": {},
     "output_type": "execute_result"
    }
   ],
   "source": [
    "import pandas as pd\n",
    "\n",
    "\n",
    "A = [\n",
    "    [1,2,3,4,5],\n",
    "    [2,3,2,5,3],\n",
    "    [5,5,5,3,2]\n",
    "]\n",
    "\n",
    "A = pd.DataFrame(A, index=[\"A\", \"B\", \"C\"], columns=[\"M\", \"N\", \"P\", \"Q\", \"R\"])\n",
    "A = A.subtract(A.mean(axis=1), axis=0)\n",
    "A = A.subtract(A.mean(), axis=1)\n",
    "A.apply(lambda x: round(x, 2))"
   ]
  },
  {
   "cell_type": "markdown",
   "metadata": {},
   "source": [
    "## Question 2\n",
    "\n",
    "Below is a table giving the profile of three items.\n",
    "\n",
    "The first five attributes are Boolean, and the last is an integer \"rating.\" Assume that the scale factor for the rating is α. Compute, as a function of α, the cosine distances between each pair of profiles. For each of α = 0, 0.5, 1, and 2, determine the cosine of the angle between each pair of vectors. Which of the following is FALSE?\n",
    "\n",
    "**Solution**"
   ]
  },
  {
   "cell_type": "code",
   "execution_count": 31,
   "metadata": {
    "scrolled": true
   },
   "outputs": [
    {
     "name": "stdout",
     "output_type": "stream",
     "text": [
      "alpha = 0\n",
      "(A, B) cos similarity is 0.667\n",
      "(A, C) cos similarity is 0.0\n",
      "(B, C) cos similarity is 0.408\n",
      "alpha = 0.5\n",
      "(A, B) cos similarity is 0.722\n",
      "(A, C) cos similarity is 0.289\n",
      "(B, C) cos similarity is 0.667\n",
      "alpha = 1\n",
      "(A, B) cos similarity is 0.847\n",
      "(A, C) cos similarity is 0.617\n",
      "(B, C) cos similarity is 0.85\n",
      "alpha = 2\n",
      "(A, B) cos similarity is 0.946\n",
      "(A, C) cos similarity is 0.865\n",
      "(B, C) cos similarity is 0.953\n"
     ]
    }
   ],
   "source": [
    "S = [\n",
    "    [1,0,1,0,1,2],\n",
    "    [1,1,0,0,1,6],\n",
    "    [0,1,0,1,0,2]\n",
    "]\n",
    "\n",
    "labels = [\"A\", \"B\", \"C\"]\n",
    "\n",
    "for alpha in [0, .5, 1, 2]:\n",
    "    print(\"alpha =\", alpha)\n",
    "    for i, j in [(0, 1), (0, 2), (1, 2)]:\n",
    "        x = S[i]\n",
    "        y = S[j]\n",
    "        d = sum(x[k] * y[k] for k in range(5)) + alpha**2 * x[5] * y[5]\n",
    "        u = (sum(c**2 for c in x[:5]) + alpha**2 * x[5]**2)**.5\n",
    "        v = (sum(c**2 for c in y[:5]) + alpha**2 * y[5]**2)**.5\n",
    "        cos = d / (u * v)\n",
    "        print (\"(%s, %s) cos similarity is %s\" % (labels[i], labels[j], round(cos, 3)))"
   ]
  },
  {
   "cell_type": "markdown",
   "metadata": {},
   "source": [
    "## Question 3\n",
    "\n",
    "Below is a utility matrix representing ratings by users A, B, and C for items a through h.\n",
    "\n",
    "Treat ratings of 3, 4, and 5 as 1 and 1, 2, and blank as 0. Compute the Jaccard distance between each pair of items. Then, cluster the items hierarchically into four clusters, using the Jaccard distance. When a cluster consists of more than one item, take the distance between clusters to be the minimum over all pairs of items, one from each cluster, of the Jaccard distance between those items. Break ties lexicographically. That is, sort the items that would be merged alphabetically, and merge those clusters whose resulting set would be first alphabetically. Then, identify one of the resulting clusters in the list below.\n",
    "Note: if you are not familiar with hierarchical clustering, you might want to wait until Video 59 in Week 5, or read Sect. 7.2 of the MMDS book.\n",
    "\n",
    "**Solution**"
   ]
  },
  {
   "cell_type": "code",
   "execution_count": 61,
   "metadata": {},
   "outputs": [
    {
     "name": "stdout",
     "output_type": "stream",
     "text": [
      "[{'c'}, {'e'}, {'h', 'f'}, {'b', 'g', 'd', 'a'}]\n"
     ]
    }
   ],
   "source": [
    "items = {\n",
    "    \"a\": (4, 0, 2),\n",
    "    \"b\": (5, 3, 0),\n",
    "    \"c\": (0, 4, 1),\n",
    "    \"d\": (5, 3, 3),\n",
    "    \"e\": (1, 1, 0),\n",
    "    \"f\": (0, 2, 4),\n",
    "    \"g\": (3, 1, 5),\n",
    "    \"h\": (2, 0, 3)\n",
    "}\n",
    "\n",
    "for c, v in items.items():\n",
    "    items[c] = tuple(1 if k >= 3 else 0 for k in v)\n",
    "\n",
    "clusters = list(map(lambda c: {c}, items.keys()))\n",
    "\n",
    "def jac_dist(a, b):\n",
    "    ia = items[a]\n",
    "    ib = items[b]\n",
    "    dist = sum(x & y for x, y in zip(ia, ib)) / sum(x | y for x, y in zip(ia, ib))\n",
    "    return 1 - dist\n",
    "\n",
    "def clust_dist(i, j):\n",
    "    \n",
    "    dist = float(\"inf\")\n",
    "    \n",
    "    for x in clusters[i]:\n",
    "        for y in clusters[j]:\n",
    "            dist = min(dist, jac_dist(x, y))\n",
    "    \n",
    "    return dist\n",
    "\n",
    "while len(clusters) > 4:\n",
    "    \n",
    "    count = len(clusters)\n",
    "    \n",
    "    min_dist = min(\n",
    "        clust_dist(i, j)\n",
    "        for i in range(count - 1)\n",
    "        for j in range(i + 1, count)\n",
    "    )\n",
    "    \n",
    "    candidates = [\n",
    "        (i, j)\n",
    "        for i in range(count - 1)\n",
    "        for j in range(i + 1, count)\n",
    "        if clust_dist(i, j) == min_dist\n",
    "    ]\n",
    "    \n",
    "    x, y = min(\n",
    "        candidates,\n",
    "        key = lambda c: ''.join(sorted(clusters[c[0]] | clusters[c[1]]))\n",
    "    )\n",
    "    \n",
    "    c1 = clusters.pop(max(x, y))\n",
    "    c2 = clusters.pop(min(x, y))\n",
    "    clusters.append(c1 | c2)\n",
    "    \n",
    "print(clusters)        "
   ]
  }
 ],
 "metadata": {
  "kernelspec": {
   "display_name": "Python 3",
   "language": "python",
   "name": "python3"
  },
  "language_info": {
   "codemirror_mode": {
    "name": "ipython",
    "version": 3
   },
   "file_extension": ".py",
   "mimetype": "text/x-python",
   "name": "python",
   "nbconvert_exporter": "python",
   "pygments_lexer": "ipython3",
   "version": "3.7.6"
  }
 },
 "nbformat": 4,
 "nbformat_minor": 4
}
