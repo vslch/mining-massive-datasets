{
 "cells": [
  {
   "cell_type": "markdown",
   "metadata": {},
   "source": [
    "# HW 5\n",
    "\n",
    "## Question 2\n",
    "\n",
    "Consider the following undirected graph (i.e., edges may be considered bidirectional): $[(A,B), (B,C),(A,E),(E,D),(A,C),(B,E),(B,D),(C,E)]$.\n",
    "\n",
    "Run the \"trawling\" algorithm for finding dense communities on this graph and find all complete bipartite subgraphs of types K3,2 and K2,2. Note: In the case of K2,2, we consider {{W, X}, {Y, Z}} and {{Y, Z}, {W, X}} to be identical.\n",
    "\n",
    "**Solution**"
   ]
  },
  {
   "cell_type": "code",
   "execution_count": 20,
   "metadata": {},
   "outputs": [
    {
     "name": "stdout",
     "output_type": "stream",
     "text": [
      "number of K2,2 subgraphs is 5\n"
     ]
    }
   ],
   "source": [
    "from itertools import combinations\n",
    "\n",
    "V = {\n",
    "    \"A\": {\"B\", \"E\", \"C\"},\n",
    "    \"B\": {\"A\", \"C\", \"E\", \"D\"},\n",
    "    \"C\": {\"B\", \"A\", \"E\"},\n",
    "    \"D\": {\"E\", \"B\"},\n",
    "    \"E\": {\"A\", \"B\", \"C\", \"D\"}\n",
    "}\n",
    "\n",
    "G = V.keys()\n",
    "r = set()\n",
    "s = set()\n",
    "\n",
    "for x, y in combinations(G, 2):\n",
    "    x, y = min(x, y), max(x, y)\n",
    "    x_neib = V[x] - {y} \n",
    "    y_neib = V[y] - {x}\n",
    "    t_neib = x_neib & y_neib\n",
    "    if len(t_neib) == 2 and (x, y) not in s:\n",
    "        u = t_neib.pop()\n",
    "        v = t_neib.pop()\n",
    "        u, v = min(u, v), max(u, v)\n",
    "        s.add((u, v))\n",
    "        r.add(((x, y), (u, v)))\n",
    "        \n",
    "    \n",
    "print(\"number of K2,2 subgraphs is \" + str(len(r)))"
   ]
  },
  {
   "cell_type": "markdown",
   "metadata": {},
   "source": [
    "## Question 3\n",
    "\n",
    "We fit AGM to the network on the left, and found the parameters on the right. Find the optimal values for pA and pB. Then identify the correct value below.\n",
    "\n",
    "**Solution**\n",
    "\n",
    "$$\n",
    "\\max_{0\\leq p_a,p_b \\leq 1} p_a^7 \\cdot (1-p_a)^3 \\cdot p_b^9 \\cdot (1 - p_b)^6 \\\\\n",
    "7 \\cdot (1 - p_a)^3 - 3\\cdot p_a \\cdot (1-p_a)^2 = 0 \\\\ \n",
    "7 = 10\\cdot p_a \\\\\n",
    "p_a = 0.7\n",
    "$$"
   ]
  }
 ],
 "metadata": {
  "kernelspec": {
   "display_name": "Python 3",
   "language": "python",
   "name": "python3"
  },
  "language_info": {
   "codemirror_mode": {
    "name": "ipython",
    "version": 3
   },
   "file_extension": ".py",
   "mimetype": "text/x-python",
   "name": "python",
   "nbconvert_exporter": "python",
   "pygments_lexer": "ipython3",
   "version": "3.7.6"
  }
 },
 "nbformat": 4,
 "nbformat_minor": 4
}
