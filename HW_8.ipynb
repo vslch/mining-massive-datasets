{
 "cells": [
  {
   "cell_type": "markdown",
   "metadata": {},
   "source": [
    "# HW 8\n",
    "\n",
    "## Question 3\n",
    "\n",
    "Suppose [1,3,4,5,7] is an eigenvector of some matrix. What is the unit eigenvector in the same direction? Find one of the components of the unit eigenvector in the list below (correct to two decimal places).\n",
    "\n",
    "**Solution**"
   ]
  },
  {
   "cell_type": "code",
   "execution_count": 8,
   "metadata": {},
   "outputs": [
    {
     "data": {
      "text/plain": [
       "[0.1, 0.3, 0.4, 0.5, 0.7]"
      ]
     },
     "execution_count": 8,
     "metadata": {},
     "output_type": "execute_result"
    }
   ],
   "source": [
    "s = [1,3,4,5,7]\n",
    "d = sum(c**2 for c in s)**.5\n",
    "[round(c / d, 2) for c in s]"
   ]
  },
  {
   "cell_type": "markdown",
   "metadata": {},
   "source": [
    "## Question 4\n",
    "\n",
    "Suppose we have three points in a two dimensional space: (1,1), (2,2), and (3,4). We want to perform PCA on these points, so we construct a 2-by-2 matrix, call it N, whose eigenvectors are the directions that best represent these three points. Construct the matrix N and identify, in the list below, one of its elements.\n",
    "\n",
    "**Solution**"
   ]
  },
  {
   "cell_type": "code",
   "execution_count": 7,
   "metadata": {},
   "outputs": [
    {
     "data": {
      "text/plain": [
       "matrix([[14, 17],\n",
       "        [17, 21]])"
      ]
     },
     "execution_count": 7,
     "metadata": {},
     "output_type": "execute_result"
    }
   ],
   "source": [
    "import numpy as np\n",
    "\n",
    "N = np.matrix([\n",
    "    [1, 1],\n",
    "    [2, 2],\n",
    "    [3, 4]\n",
    "])\n",
    "\n",
    "N.T * N"
   ]
  },
  {
   "cell_type": "markdown",
   "metadata": {},
   "source": [
    "## Question 5\n",
    "\n",
    "Consider the diagonal matrix\n",
    "\n",
    "\\begin{Bmatrix}\n",
    " 1 & 0 & 0\\\\\n",
    " 0 & 2 & 0\\\\\n",
    " 0 & 0 & 0\n",
    "\\end{Bmatrix}\n",
    "\n",
    "Compute its Moore-Penrose pseudoinverse, and then identify, in the list below, the true statement about the elements of the pseudoinverse.\n",
    "\n",
    "**Solution**"
   ]
  },
  {
   "cell_type": "code",
   "execution_count": 4,
   "metadata": {
    "scrolled": true
   },
   "outputs": [
    {
     "data": {
      "text/plain": [
       "matrix([[1. , 0. , 0. ],\n",
       "        [0. , 0.5, 0. ],\n",
       "        [0. , 0. , 0. ]])"
      ]
     },
     "execution_count": 4,
     "metadata": {},
     "output_type": "execute_result"
    }
   ],
   "source": [
    "from numpy.linalg import pinv\n",
    "\n",
    "A = np.matrix([\n",
    "    [1, 0, 0],\n",
    "    [0, 2, 0],\n",
    "    [0, 0, 0]\n",
    "])\n",
    "\n",
    "pinv(A)"
   ]
  },
  {
   "cell_type": "markdown",
   "metadata": {},
   "source": [
    "## Question 6\n",
    "\n",
    "When we perform a CUR dcomposition of a matrix, we select rows and columns by using a particular probability distribution for the rows and another for the columns. Here is a matrix that we wish to decompose:\n",
    "\n",
    "\\begin{Bmatrix}\n",
    " 1 & 2 & 3\\\\\n",
    " 4 & 5 & 6\\\\\n",
    " 7 & 8 & 9\\\\\n",
    " 10 & 11 & 12\n",
    "\\end{Bmatrix}\n",
    "\n",
    "Calculate the probability distribution for the rows, and then identify the correct probability (correct to three decimal places) for one of the rows in the list below.\n",
    "\n",
    "**Solution**"
   ]
  },
  {
   "cell_type": "code",
   "execution_count": 6,
   "metadata": {},
   "outputs": [
    {
     "name": "stdout",
     "output_type": "stream",
     "text": [
      "row 1 prob 0.022\n",
      "row 2 prob 0.118\n",
      "row 3 prob 0.298\n",
      "row 4 prob 0.562\n"
     ]
    }
   ],
   "source": [
    "A = [\n",
    "    [1,2,3],\n",
    "    [4,5,6],\n",
    "    [7,8,9],\n",
    "    [10,11,12]\n",
    "]\n",
    "\n",
    "F = sum(sum(c**2 for c in r) for r in A)\n",
    "\n",
    "for i, row in enumerate(A):\n",
    "    p = sum(c**2 for c in row)\n",
    "    print(\"row\",  i + 1, \"prob\", round(p / F, 3))\n",
    "    "
   ]
  }
 ],
 "metadata": {
  "kernelspec": {
   "display_name": "Python 3",
   "language": "python",
   "name": "python3"
  },
  "language_info": {
   "codemirror_mode": {
    "name": "ipython",
    "version": 3
   },
   "file_extension": ".py",
   "mimetype": "text/x-python",
   "name": "python",
   "nbconvert_exporter": "python",
   "pygments_lexer": "ipython3",
   "version": "3.7.6"
  }
 },
 "nbformat": 4,
 "nbformat_minor": 4
}
