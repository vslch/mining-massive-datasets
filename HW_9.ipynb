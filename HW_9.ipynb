{
 "cells": [
  {
   "cell_type": "markdown",
   "metadata": {},
   "source": [
    "# HW 9\n",
    "\n",
    "## Question 1\n",
    "\n",
    "We can cluster in one dimension as well as in many dimensions. In this problem, we are going to cluster numbers on the real line. The particular numbers (data points) are 1, 4, 9, 16, 25, 36, 49, 64, 81, and 100, i.e., the squares of 1 through 10. We shall use a k-means algorithm, with two clusters. You can verify easily that no matter which two points we choose as the initial centroids, some prefix of the sequence of squares will go into the cluster of the smaller and the remaining suffix goes into the other cluster. As a result, there are only nine different clusterings that can be achieved, ranging from {1}{4,9,...,100} through {1,4,...,81}{100}.\n",
    "\n",
    "We then go through a reclustering phase, where the centroids of the two clusters are recalculated and all points are reassigned to the nearer of the two new centroids. For each of the nine possible clusterings, calculate how many points are reclassified during the reclustering phase. Identify in the list below the pair of initial centroids that results in exactly one point being reclassified.\n",
    "\n",
    "**Solution**"
   ]
  },
  {
   "cell_type": "code",
   "execution_count": 19,
   "metadata": {},
   "outputs": [
    {
     "name": "stdout",
     "output_type": "stream",
     "text": [
      "initial centroids (4, 36) 1 point removed\n",
      "initial centroids (4, 49) 1 point removed\n",
      "initial centroids (4, 64) 1 point removed\n",
      "initial centroids (9, 25) 1 point removed\n",
      "initial centroids (9, 36) 1 point removed\n",
      "initial centroids (9, 49) 1 point removed\n",
      "initial centroids (16, 25) 1 point removed\n",
      "initial centroids (16, 36) 1 point removed\n",
      "initial centroids (16, 49) 1 point removed\n",
      "initial centroids (25, 36) 1 point removed\n",
      "initial centroids (36, 100) 1 point removed\n",
      "initial centroids (49, 81) 1 point removed\n",
      "initial centroids (49, 100) 1 point removed\n",
      "initial centroids (64, 81) 1 point removed\n",
      "initial centroids (64, 100) 1 point removed\n",
      "initial centroids (81, 100) 1 point removed\n"
     ]
    }
   ],
   "source": [
    "t = [1 ,4, 9, 16, 25, 36, 49, 64, 81, 100]\n",
    "\n",
    "for i in range(1, 9):\n",
    "    for j in range(i + 1, 10):\n",
    "    \n",
    "        x, y = t[i], t[j]\n",
    "    \n",
    "        c1 = [k for k in t if abs(k - x) < abs(k - y)]\n",
    "        c2 = [k for k in t if abs(k - y) < abs(k - x)]\n",
    "        m1 = sum(c1) / len(c1)\n",
    "        m2 = sum(c2) / len(c2)\n",
    "    \n",
    "        c3 = [k for k in t if abs(k - m1) < abs(k - m2)]\n",
    "        c4 = [k for k in t if abs(k - m2) < abs(k - m1)]\n",
    "    \n",
    "        if abs(len(c1) - len(c3)) == 1:\n",
    "            print(\"initial centroids\", (x, y), \"1 point removed\")"
   ]
  },
  {
   "cell_type": "markdown",
   "metadata": {},
   "source": [
    "## Question 2\n",
    "\n",
    "Suppose we want to assign points to one of two cluster centroids, either (0,0) or (100,40). Depending on whether we use the L1 or L2 norm, a point (x,y) could be clustered with a different one of these two centroids. For this problem, you should work out the conditions under which a point will be clustered with the centoid (0,0) when the L1 norm is used, but clustered with the centroid (100,40) when the L2 norm is used. Identify one of those points from the list below.\n",
    "\n",
    "**Solution**"
   ]
  },
  {
   "cell_type": "code",
   "execution_count": 32,
   "metadata": {
    "scrolled": true
   },
   "outputs": [
    {
     "name": "stdout",
     "output_type": "stream",
     "text": [
      "L1: point (56, 13) classified to (0, 0)\n",
      "L2: point (56, 13) classified to (100, 40)\n",
      "\n",
      "L1: point (53, 18) classified to (100, 40)\n",
      "L2: point (53, 18) classified to (100, 40)\n",
      "\n",
      "L1: point (66, 5) classified to (100, 40)\n",
      "L2: point (66, 5) classified to (100, 40)\n",
      "\n",
      "L1: point (53, 10) classified to (0, 0)\n",
      "L2: point (53, 10) classified to (0, 0)\n",
      "\n"
     ]
    }
   ],
   "source": [
    "points1 = [\n",
    "    (53, 15),\n",
    "    (61, 10),\n",
    "    (52, 13),\n",
    "    (51, 15)\n",
    "]\n",
    "\n",
    "c1, c2 = (0, 0), (100, 40)\n",
    "\n",
    "for x, y in points2:\n",
    "    \n",
    "    l11 = abs(x - c1[0]) + abs(y - c1[1])\n",
    "    l12 = abs(x - c2[0]) + abs(y - c2[1])\n",
    "    \n",
    "    l21 = ((x - c1[0])**2 + (y - c1[1])**2)**.5\n",
    "    l22 = ((x - c2[0])**2 + (y - c2[1])**2)**.5\n",
    "    \n",
    "    if l11 < l12:\n",
    "        print(\"L1: point\", (x, y), \"classified to\", c1)\n",
    "    else:\n",
    "        print(\"L1: point\", (x, y), \"classified to\", c2)\n",
    "        \n",
    "    if l21 < l22:\n",
    "        print(\"L2: point\", (x, y), \"classified to\", c1)\n",
    "    else:\n",
    "        print(\"L2: point\", (x, y), \"classified to\", c2)\n",
    "        \n",
    "    print()\n",
    "    \n",
    "    \n",
    "    "
   ]
  },
  {
   "cell_type": "markdown",
   "metadata": {},
   "source": [
    "## Question 3\n",
    "\n",
    "Suppose our data set consists of the perfect squares 1, 4, 9, 16, 25, 36, 49, and 64, which are points in one dimension. Perform a hierarchical chustering on these points, as follows. Initially, each point is in a cluster by itself. At each step, merge the two clusters with the closest centroids, and continue until only two clusters remain. Which of the following is the centroid of a cluster that exists at some time during this process? Positions are represented to the nearest 0.1\n",
    "\n",
    "**Solution**"
   ]
  },
  {
   "cell_type": "code",
   "execution_count": 25,
   "metadata": {
    "scrolled": true
   },
   "outputs": [
    {
     "name": "stdout",
     "output_type": "stream",
     "text": [
      "centroids : [9, 16, 25, 36, 49, 64, 2.5]\n",
      "centroids : [16, 25, 36, 49, 64, 4.67]\n",
      "centroids : [36, 49, 64, 4.67, 20.5]\n",
      "centroids : [64, 4.67, 20.5, 42.5]\n",
      "centroids : [64, 42.5, 11.0]\n",
      "centroids : [11.0, 49.67]\n"
     ]
    }
   ],
   "source": [
    "c = [1, 4, 9, 16, 25, 36, 49, 64]\n",
    "clusters = [(k, {k}) for k in c]\n",
    "\n",
    "while len(clusters) > 2:\n",
    "    \n",
    "    l = len(clusters)\n",
    "    candidate = None\n",
    "    min_dist = float(\"inf\")\n",
    "    \n",
    "    for i in range(l - 1):\n",
    "        for j in range(i + 1, l):\n",
    "            \n",
    "            a, pa = clusters[i]\n",
    "            b, pb = clusters[j]\n",
    "            \n",
    "            if abs(a - b) < min_dist:\n",
    "                min_dist = abs(a - b)\n",
    "                candidate = (i, j)\n",
    "    \n",
    "    i, j = candidate\n",
    "    _, c1 = clusters[i]\n",
    "    _, c2 = clusters[j]\n",
    "    clusters.pop(max(i, j))\n",
    "    clusters.pop(min(i, j))\n",
    "    \n",
    "    new_cluster = c1 | c2\n",
    "    centroid = sum(new_cluster) / len(new_cluster)\n",
    "    \n",
    "    clusters.append((centroid, new_cluster))\n",
    "    \n",
    "    print(\"centroids :\", [round(x, 2) for x, _ in clusters])\n",
    "    #print(clusters)\n",
    "            \n",
    "            \n",
    "        \n"
   ]
  },
  {
   "cell_type": "markdown",
   "metadata": {},
   "source": [
    "## Question 6\n",
    "\n",
    "Perform a hierarchical clustering of the following six points $(5, 27), (33, 33), (21, 21), (10, 10), (28, 6), (0, 0)$ using the complete-link proximity measure (the distance between two clusters is the largest distance between any two points, one from each cluster). Which of the following is a cluster at some stage of the agglomeration?\n",
    "\n",
    "**Solution**"
   ]
  },
  {
   "cell_type": "code",
   "execution_count": 30,
   "metadata": {},
   "outputs": [
    {
     "name": "stdout",
     "output_type": "stream",
     "text": [
      "[{'E'}, {'D'}, {'C'}, {'F'}, {'A', 'B'}]\n",
      "[{'E'}, {'D'}, {'A', 'B'}, {'C', 'F'}]\n",
      "[{'D'}, {'C', 'F'}, {'A', 'E', 'B'}]\n",
      "[{'A', 'E', 'B'}, {'C', 'D', 'F'}]\n",
      "[{'A', 'E', 'C', 'D', 'F', 'B'}]\n"
     ]
    }
   ],
   "source": [
    "c = {\n",
    "    \"E\": (5, 27), \n",
    "    \"D\": (33, 33), \n",
    "    \"C\": (21, 21), \n",
    "    \"B\": (10, 10), \n",
    "    \"F\": (28, 6), \n",
    "    \"A\": (0, 0)\n",
    "    \n",
    "}\n",
    "\n",
    "clusters = [{k} for k in c]\n",
    "\n",
    "def dist(c1, c2):\n",
    "    res = max(\n",
    "        ((c[x][0] - c[y][0])**2 + (c[x][1] - c[y][1])**2)**.5\n",
    "        for x in c1 \n",
    "        for y in c2\n",
    "    )\n",
    "    return res\n",
    "\n",
    "\n",
    "while len(clusters) > 1:\n",
    "    \n",
    "    l = len(clusters)\n",
    "    candidate = None\n",
    "    min_dist = float(\"inf\")\n",
    "    \n",
    "    for i in range(l - 1):\n",
    "        for j in range(i + 1, l):\n",
    "            \n",
    "            a = clusters[i]\n",
    "            b = clusters[j]\n",
    "            \n",
    "            if dist(a, b) < min_dist:\n",
    "                min_dist = dist(a, b)\n",
    "                candidate = (i, j)\n",
    "    \n",
    "    i, j = candidate\n",
    "    c1 = clusters[i]\n",
    "    c2 = clusters[j]\n",
    "    clusters.pop(max(i, j))\n",
    "    clusters.pop(min(i, j))\n",
    "    new_cluster = c1 | c2\n",
    "    clusters.append(new_cluster)\n",
    "    \n",
    "    print(clusters)\n"
   ]
  }
 ],
 "metadata": {
  "kernelspec": {
   "display_name": "Python 3",
   "language": "python",
   "name": "python3"
  },
  "language_info": {
   "codemirror_mode": {
    "name": "ipython",
    "version": 3
   },
   "file_extension": ".py",
   "mimetype": "text/x-python",
   "name": "python",
   "nbconvert_exporter": "python",
   "pygments_lexer": "ipython3",
   "version": "3.7.6"
  }
 },
 "nbformat": 4,
 "nbformat_minor": 4
}
