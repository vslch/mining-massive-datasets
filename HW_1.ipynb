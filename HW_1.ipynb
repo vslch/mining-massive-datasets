{
 "cells": [
  {
   "cell_type": "markdown",
   "metadata": {},
   "source": [
    "# HW 1\n",
    "\n",
    "## Question 1\n",
    "\n",
    "Suppose our input data to a map-reduce operation consists of integer values (the keys are not important). The map function takes an integer i and produces the list of pairs $(p,i)$ such that $p$ is a prime divisor of $i$. For example, $map(12) = [(2,12),(3,12)]$. The reduce function is addition. That is, $reduce(p,[i_1,i_2,...,i_k])$ is $(p,i_1+i_2+...+i_k)$.\n",
    "\n",
    "Compute the output, if the input is the set of integers $15, 21, 24, 30, 49$. Then, identify, in the list below, one of the pairs in the output.\n",
    "\n",
    "**Solution:**"
   ]
  },
  {
   "cell_type": "code",
   "execution_count": 11,
   "metadata": {},
   "outputs": [
    {
     "name": "stdout",
     "output_type": "stream",
     "text": [
      "key=2, res=54\n",
      "key=3, res=90\n",
      "key=5, res=45\n",
      "key=7, res=70\n"
     ]
    }
   ],
   "source": [
    "from itertools import groupby\n",
    "\n",
    "# first 25 primes\n",
    "primes = [2, 3, 5, 7, 11, 13, 17, 19, 23, 29, 31, 37, 41, 43, 47, 53, 59, 61, 67, 71, 73]\n",
    "targets = [15,21,24,30,49]\n",
    "\n",
    "def map_func(n):\n",
    "    divisors = filter(lambda x: n % x == 0, primes)\n",
    "    return [(d, n) for d in divisors]\n",
    "\n",
    "def reduce_func(kv_pairs): \n",
    "    return sum(v for k, v in kv_pairs)\n",
    "\n",
    "res = []\n",
    "    \n",
    "for n in targets:\n",
    "    res += map_func(n)\n",
    "    \n",
    "res = sorted(res, key=lambda c: c[0])\n",
    "    \n",
    "for key, group in groupby(res, lambda c: c[0]):\n",
    "    print(\"key=%s, res=%s\" % (key, reduce_func(group)))"
   ]
  },
  {
   "cell_type": "markdown",
   "metadata": {},
   "source": [
    "## Question 2\n",
    "Consider three Web pages with the following links: $[(A,B), (A,C), (B,C), (C,C)]$. \n",
    "\n",
    "Suppose we compute PageRank with a β of 0.7, and we introduce the additional constraint that the sum of the PageRanks of the three pages must be 3, to handle the problem that otherwise any multiple of a solution will also be a solution. Compute the PageRanks a, b, and c of the three pages A, B, and C, respectively. Then, identify from the list below, the true statement.\n",
    "\n",
    "**Solution**\n",
    "\n",
    "Matrix A will have the following form:\n",
    "$$\n",
    "0.7 *\n",
    "\\begin{Bmatrix}\n",
    " 0 & 0 & 0\\\\\n",
    " \\frac{1}{2} & 0 & 0\\\\\n",
    " \\frac{1}{2} & 1 & 1\n",
    "\\end{Bmatrix}\n",
    "+ \n",
    "0.3 *\n",
    "\\begin{Bmatrix}\n",
    " \\frac{1}{3} & \\frac{1}{3} & \\frac{1}{3}\\\\\n",
    " \\frac{1}{3} & \\frac{1}{3} & \\frac{1}{3}\\\\\n",
    " \\frac{1}{3} & \\frac{1}{3} & \\frac{1}{3}\n",
    "\\end{Bmatrix}\n",
    "$$\n",
    "Additional constraint: $r_a + r_b + r_c = 3$\n"
   ]
  },
  {
   "cell_type": "code",
   "execution_count": 22,
   "metadata": {
    "scrolled": true
   },
   "outputs": [
    {
     "data": {
      "text/plain": [
       "matrix([[-0.9 ,  0.1 ,  0.1 ],\n",
       "        [ 0.45, -0.9 ,  0.1 ],\n",
       "        [ 0.45,  0.8 , -0.2 ],\n",
       "        [ 1.  ,  1.  ,  1.  ]])"
      ]
     },
     "execution_count": 22,
     "metadata": {},
     "output_type": "execute_result"
    }
   ],
   "source": [
    "import numpy as np\n",
    "from scipy import linalg\n",
    "\n",
    "m1 = np.matrix([\n",
    "    [0, 0, 0],\n",
    "    [.5, 0, 0],\n",
    "    [.5, 1, 1]\n",
    "])\n",
    "\n",
    "m2 = np.matrix([\n",
    "    [1/3, 1/3, 1/3],\n",
    "    [1/3, 1/3, 1/3],\n",
    "    [1/3, 1/3, 1/3]\n",
    "])\n",
    "\n",
    "m3 = np.matrix([\n",
    "    [-1, 0, 0],\n",
    "    [0, -1, 0],\n",
    "    [0, 0, -1]\n",
    "])\n",
    "\n",
    "m4 = 0.7 * m1 + 0.3 * m2 + m3\n",
    "\n",
    "m5 = np.vstack((m4, [1, 1, 1]))\n",
    "m5"
   ]
  },
  {
   "cell_type": "markdown",
   "metadata": {},
   "source": [
    "Solving with Wolfram gives $a=0.3, b=0.405, c=2.295$\n",
    "\n",
    "## Question 3\n",
    "\n",
    "\n",
    "Graph: $[(A, B), (B, C), (A, C), (C, A)]$. Suppose we compute PageRank with β=0.85. Write the equations for the PageRanks a, b, and c of the three pages A, B, and C, respectively. Then, identify in the list below, one of the equations.\n",
    "\n",
    "**Solution**"
   ]
  },
  {
   "cell_type": "code",
   "execution_count": 23,
   "metadata": {
    "scrolled": true
   },
   "outputs": [
    {
     "data": {
      "text/plain": [
       "matrix([[-0.95 ,  0.05 ,  0.9  ],\n",
       "        [ 0.475, -0.95 ,  0.05 ],\n",
       "        [ 0.475,  0.9  , -0.95 ],\n",
       "        [ 1.   ,  1.   ,  1.   ]])"
      ]
     },
     "execution_count": 23,
     "metadata": {},
     "output_type": "execute_result"
    }
   ],
   "source": [
    "m1 = np.matrix([\n",
    "    [0, 0, 1],\n",
    "    [.5, 0, 0],\n",
    "    [.5, 1, 0]\n",
    "])\n",
    "\n",
    "m2 = np.matrix([\n",
    "    [1/3, 1/3, 1/3],\n",
    "    [1/3, 1/3, 1/3],\n",
    "    [1/3, 1/3, 1/3]\n",
    "])\n",
    "\n",
    "m3 = np.matrix([\n",
    "    [-1, 0, 0],\n",
    "    [0, -1, 0],\n",
    "    [0, 0, -1]\n",
    "])\n",
    "\n",
    "m4 = 0.85 * m1 + 0.15 * m2 + m3\n",
    "\n",
    "m5 = np.vstack((m4, [1, 1, 1]))\n",
    "m5"
   ]
  },
  {
   "cell_type": "markdown",
   "metadata": {},
   "source": [
    "## Question 4\n",
    "\n",
    "Assuming no \"taxation,\" compute the PageRanks a, b, and c of the three pages A, B, and C, using iteration, starting with the \"0th\" iteration where all three pages have rank a = b = c = 1. Compute as far as the 5th iteration, and also determine what the PageRanks are in the limit. Then, identify the true statement from the list below"
   ]
  },
  {
   "cell_type": "code",
   "execution_count": 27,
   "metadata": {},
   "outputs": [
    {
     "data": {
      "text/plain": [
       "matrix([[1.25 ],\n",
       "        [0.625],\n",
       "        [1.125]])"
      ]
     },
     "execution_count": 27,
     "metadata": {},
     "output_type": "execute_result"
    }
   ],
   "source": [
    "r5 = m1**5 * np.array([[1], [1], [1]])\n",
    "r5"
   ]
  }
 ],
 "metadata": {
  "kernelspec": {
   "display_name": "Python 3",
   "language": "python",
   "name": "python3"
  },
  "language_info": {
   "codemirror_mode": {
    "name": "ipython",
    "version": 3
   },
   "file_extension": ".py",
   "mimetype": "text/x-python",
   "name": "python",
   "nbconvert_exporter": "python",
   "pygments_lexer": "ipython3",
   "version": "3.7.6"
  }
 },
 "nbformat": 4,
 "nbformat_minor": 4
}
