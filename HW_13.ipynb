{
 "cells": [
  {
   "cell_type": "markdown",
   "metadata": {},
   "source": [
    "# HW 13\n",
    "\n",
    "## Question 2"
   ]
  },
  {
   "cell_type": "code",
   "execution_count": 39,
   "metadata": {},
   "outputs": [
    {
     "data": {
      "text/plain": [
       "matrix([[0.61803399]])"
      ]
     },
     "execution_count": 39,
     "metadata": {},
     "output_type": "execute_result"
    }
   ],
   "source": [
    "import numpy as np\n",
    "\n",
    "h = np.array([1, 1])\n",
    "L = np.matrix([[1, 1], [0, 1]])\n",
    "\n",
    "for i in range(1000):\n",
    "    a = L.T.dot(h)\n",
    "    a = a / a.max()\n",
    "    a = a.reshape(2, 1)\n",
    "    h = L.dot(a)\n",
    "    h = h / h.max()\n",
    "    h = h.reshape(2, 1)\n",
    "\n",
    "h[1] / h[0]"
   ]
  },
  {
   "cell_type": "markdown",
   "metadata": {},
   "source": [
    "## Question 3"
   ]
  },
  {
   "cell_type": "code",
   "execution_count": 55,
   "metadata": {},
   "outputs": [
    {
     "data": {
      "text/plain": [
       "(matrix([[1.   ],\n",
       "         [0.125],\n",
       "         [0.125],\n",
       "         [0.625]]),\n",
       " matrix([[0.2],\n",
       "         [0.6],\n",
       "         [1. ],\n",
       "         [0.2]]))"
      ]
     },
     "execution_count": 55,
     "metadata": {},
     "output_type": "execute_result"
    }
   ],
   "source": [
    "h = np.array([1, 1, 1, 1])\n",
    "L = np.matrix([\n",
    "    [0, 1, 1, 0], \n",
    "    [1, 0, 0, 0],\n",
    "    [0, 0, 0, 1],\n",
    "    [0, 0, 1, 0]\n",
    "])\n",
    "\n",
    "for i in range(2):\n",
    "    a = L.T.dot(h)\n",
    "    a = a / a.max()\n",
    "    a = a.reshape(4, 1)\n",
    "    h = L.dot(a)\n",
    "    h = h / h.max()\n",
    "    h = h.reshape(4, 1)\n",
    "    \n",
    "h, a"
   ]
  }
 ],
 "metadata": {
  "kernelspec": {
   "display_name": "Python 3",
   "language": "python",
   "name": "python3"
  },
  "language_info": {
   "codemirror_mode": {
    "name": "ipython",
    "version": 3
   },
   "file_extension": ".py",
   "mimetype": "text/x-python",
   "name": "python",
   "nbconvert_exporter": "python",
   "pygments_lexer": "ipython3",
   "version": "3.7.6"
  }
 },
 "nbformat": 4,
 "nbformat_minor": 4
}
